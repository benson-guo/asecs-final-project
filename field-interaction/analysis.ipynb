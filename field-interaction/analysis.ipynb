{
 "cells": [
  {
   "cell_type": "code",
   "execution_count": 32,
   "metadata": {},
   "outputs": [],
   "source": [
    "data = \"\"\"Citations: 95701, arxiv cs cv (Computer Vision and Pattern Recognition) -> arxiv cs cv (Computer Vision and Pattern Recognition)\n",
    "Citations: 53027, arxiv cs lg (Machine Learning) -> arxiv cs lg (Machine Learning)\n",
    "Citations: 42305, arxiv cs it (Information Theory) -> arxiv cs it (Information Theory)\n",
    "Citations: 37881, arxiv cs cl (Computation and Language) -> arxiv cs cl (Computation and Language)\n",
    "Citations: 21704, arxiv cs cv (Computer Vision and Pattern Recognition) -> arxiv cs lg (Machine Learning)\n",
    "Citations: 14985, arxiv cs lg (Machine Learning) -> arxiv cs cv (Computer Vision and Pattern Recognition)\n",
    "Citations: 6877, arxiv cs cl (Computation and Language) -> arxiv cs lg (Machine Learning)\n",
    "Citations: 5763, arxiv cs ds (Data Structures and Algorithms) -> arxiv cs ds (Data Structures and Algorithms)\n",
    "Citations: 5754, arxiv cs lg (Machine Learning) -> arxiv cs ai (Artificial Intelligence)\n",
    "Citations: 5713, arxiv cs lg (Machine Learning) -> arxiv cs cl (Computation and Language)\n",
    "Citations: 5631, arxiv cs ai (Artificial Intelligence) -> arxiv cs ai (Artificial Intelligence)\n",
    "Citations: 5244, arxiv cs cr (Cryptography and Security) -> arxiv cs cr (Cryptography and Security)\n",
    "Citations: 4685, arxiv cs ai (Artificial Intelligence) -> arxiv cs lg (Machine Learning)\n",
    "Citations: 4448, arxiv cs si (Social and Information Networks) -> arxiv cs si (Social and Information Networks)\n",
    "Citations: 4322, arxiv cs lg (Machine Learning) -> arxiv cs ne (Neural and Evolutionary Computing)\n",
    "Citations: 3847, arxiv cs ni (Networking and Internet Architecture) -> arxiv cs ni (Networking and Internet Architecture)\n",
    "Citations: 3789, arxiv cs ro (Robotics) -> arxiv cs ro (Robotics)\n",
    "Citations: 3499, arxiv cs cv (Computer Vision and Pattern Recognition) -> arxiv cs ne (Neural and Evolutionary Computing)\n",
    "Citations: 3401, arxiv cs cv (Computer Vision and Pattern Recognition) -> arxiv cs cl (Computation and Language)\n",
    "Citations: 2741, arxiv cs dc (Distributed, Parallel, and Cluster Computing) -> arxiv cs dc (Distributed, Parallel, and Cluster Computing)\n",
    "Citations: 2577, arxiv cs ni (Networking and Internet Architecture) -> arxiv cs it (Information Theory)\n",
    "Citations: 2556, arxiv cs gt (Computer Science and Game Theory) -> arxiv cs gt (Computer Science and Game Theory)\n",
    "Citations: 2485, arxiv cs ro (Robotics) -> arxiv cs lg (Machine Learning)\n",
    "Citations: 2329, arxiv cs lo (Logic in Computer Science) -> arxiv cs lo (Logic in Computer Science)\n",
    "Citations: 2221, arxiv cs ro (Robotics) -> arxiv cs cv (Computer Vision and Pattern Recognition)\n",
    "Citations: 2165, arxiv cs se (Software Engineering) -> arxiv cs se (Software Engineering)\n",
    "Citations: 2134, arxiv cs ne (Neural and Evolutionary Computing) -> arxiv cs lg (Machine Learning)\n",
    "Citations: 2130, arxiv cs ne (Neural and Evolutionary Computing) -> arxiv cs ne (Neural and Evolutionary Computing)\n",
    "Citations: 2117, arxiv cs cl (Computation and Language) -> arxiv cs cv (Computer Vision and Pattern Recognition)\n",
    "Citations: 2103, arxiv cs it (Information Theory) -> arxiv cs ni (Networking and Internet Architecture)\n",
    "Citations: 2031, arxiv cs cl (Computation and Language) -> arxiv cs ne (Neural and Evolutionary Computing)\n",
    "Citations: 1993, arxiv cs ai (Artificial Intelligence) -> arxiv cs cl (Computation and Language)\n",
    "Citations: 1765, arxiv cs ir (Information Retrieval) -> arxiv cs cl (Computation and Language)\n",
    "Citations: 1734, arxiv cs lg (Machine Learning) -> arxiv cs cr (Cryptography and Security)\n",
    "Citations: 1731, arxiv cs ir (Information Retrieval) -> arxiv cs ir (Information Retrieval)\n",
    "Citations: 1705, arxiv cs cc (Computational Complexity) -> arxiv cs cc (Computational Complexity)\n",
    "Citations: 1663, arxiv cs dl (Digital Libraries) -> arxiv cs dl (Digital Libraries)\n",
    "Citations: 1616, arxiv cs cl (Computation and Language) -> arxiv cs ai (Artificial Intelligence)\n",
    "Citations: 1549, arxiv cs cr (Cryptography and Security) -> arxiv cs lg (Machine Learning)\n",
    "Citations: 1251, arxiv cs cv (Computer Vision and Pattern Recognition) -> arxiv cs ai (Artificial Intelligence)\n",
    "Citations: 1245, arxiv cs ir (Information Retrieval) -> arxiv cs lg (Machine Learning)\n",
    "Citations: 1234, arxiv cs sd (Sound) -> arxiv cs sd (Sound)\n",
    "Citations: 1212, arxiv cs lg (Machine Learning) -> arxiv cs it (Information Theory)\n",
    "Citations: 1209, arxiv cs ne (Neural and Evolutionary Computing) -> arxiv cs cv (Computer Vision and Pattern Recognition)\n",
    "Citations: 1165, arxiv cs lg (Machine Learning) -> arxiv cs si (Social and Information Networks)\n",
    "Citations: 1156, arxiv cs ai (Artificial Intelligence) -> arxiv cs cv (Computer Vision and Pattern Recognition)\n",
    "Citations: 1122, arxiv cs cg (Computational Geometry) -> arxiv cs cg (Computational Geometry)\n",
    "Citations: 1119, arxiv cs sy (Systems and Control) -> arxiv cs sy (Systems and Control)\n",
    "Citations: 1094, arxiv cs cv (Computer Vision and Pattern Recognition) -> arxiv cs ro (Robotics)\n",
    "Citations: 1031, arxiv cs db (Databases) -> arxiv cs db (Databases)\n",
    "Citations: 948, arxiv cs it (Information Theory) -> arxiv cs lg (Machine Learning)\n",
    "Citations: 927, arxiv cs lg (Machine Learning) -> arxiv cs ds (Data Structures and Algorithms)\n",
    "Citations: 900, arxiv cs dc (Distributed, Parallel, and Cluster Computing) -> arxiv cs lg (Machine Learning)\n",
    "Citations: 895, arxiv cs lg (Machine Learning) -> arxiv cs dc (Distributed, Parallel, and Cluster Computing)\n",
    "Citations: 881, arxiv cs sd (Sound) -> arxiv cs lg (Machine Learning)\n",
    "Citations: 848, arxiv cs lg (Machine Learning) -> arxiv cs ro (Robotics)\n",
    "Citations: 824, arxiv cs cr (Cryptography and Security) -> arxiv cs cv (Computer Vision and Pattern Recognition)\n",
    "Citations: 821, arxiv cs si (Social and Information Networks) -> arxiv cs lg (Machine Learning)\n",
    "Citations: 781, arxiv cs pl (Programming Languages) -> arxiv cs pl (Programming Languages)\n",
    "Citations: 732, arxiv cs ro (Robotics) -> arxiv cs ai (Artificial Intelligence)\n",
    "Citations: 702, arxiv cs si (Social and Information Networks) -> arxiv cs cl (Computation and Language)\n",
    "Citations: 685, arxiv cs ds (Data Structures and Algorithms) -> arxiv cs lg (Machine Learning)\n",
    "Citations: 681, arxiv cs cv (Computer Vision and Pattern Recognition) -> arxiv cs dc (Distributed, Parallel, and Cluster Computing)\n",
    "Citations: 681, arxiv cs sc (Symbolic Computation) -> arxiv cs sc (Symbolic Computation)\n",
    "Citations: 653, arxiv cs cv (Computer Vision and Pattern Recognition) -> arxiv cs gr (Graphics)\n",
    "Citations: 650, arxiv cs dm (Discrete Mathematics) -> arxiv cs dm (Discrete Mathematics)\n",
    "Citations: 641, arxiv cs ds (Data Structures and Algorithms) -> arxiv cs cc (Computational Complexity)\n",
    "Citations: 636, arxiv cs dc (Distributed, Parallel, and Cluster Computing) -> arxiv cs cv (Computer Vision and Pattern Recognition)\n",
    "Citations: 619, arxiv cs cy (Computers and Society) -> arxiv cs cy (Computers and Society)\n",
    "Citations: 608, arxiv cs cv (Computer Vision and Pattern Recognition) -> arxiv cs cr (Cryptography and Security)\n",
    "Citations: 560, arxiv cs ai (Artificial Intelligence) -> arxiv cs ne (Neural and Evolutionary Computing)\n",
    "Citations: 543, arxiv cs cl (Computation and Language) -> arxiv cs ir (Information Retrieval)\n",
    "Citations: 543, arxiv cs cv (Computer Vision and Pattern Recognition) -> arxiv cs it (Information Theory)\n",
    "Citations: 514, arxiv cs sd (Sound) -> arxiv cs cv (Computer Vision and Pattern Recognition)\n",
    "Citations: 514, arxiv cs et (Emerging Technologies) -> arxiv cs et (Emerging Technologies)\n",
    "Citations: 504, arxiv cs cc (Computational Complexity) -> arxiv cs ds (Data Structures and Algorithms)\n",
    "Citations: 484, arxiv cs fl (Formal Languages and Automata Theory) -> arxiv cs fl (Formal Languages and Automata Theory)\n",
    "Citations: 482, arxiv cs mm (Multimedia) -> arxiv cs cv (Computer Vision and Pattern Recognition)\n",
    "Citations: 478, arxiv cs cy (Computers and Society) -> arxiv cs lg (Machine Learning)\n",
    "Citations: 464, arxiv cs gr (Graphics) -> arxiv cs cv (Computer Vision and Pattern Recognition)\n",
    "Citations: 461, arxiv cs lg (Machine Learning) -> arxiv cs sd (Sound)\n",
    "Citations: 457, arxiv cs lg (Machine Learning) -> arxiv cs ir (Information Retrieval)\n",
    "Citations: 454, arxiv cs cy (Computers and Society) -> arxiv cs si (Social and Information Networks)\n",
    "Citations: 449, arxiv cs ni (Networking and Internet Architecture) -> arxiv cs lg (Machine Learning)\n",
    "Citations: 432, arxiv cs si (Social and Information Networks) -> arxiv cs cy (Computers and Society)\n",
    "Citations: 426, arxiv cs ne (Neural and Evolutionary Computing) -> arxiv cs cl (Computation and Language)\n",
    "Citations: 423, arxiv cs ma (Multiagent Systems) -> arxiv cs lg (Machine Learning)\n",
    "Citations: 420, arxiv cs sd (Sound) -> arxiv cs cl (Computation and Language)\n",
    "Citations: 403, arxiv cs ir (Information Retrieval) -> arxiv cs cv (Computer Vision and Pattern Recognition)\n",
    "Citations: 401, arxiv cs hc (Human-Computer Interaction) -> arxiv cs hc (Human-Computer Interaction)\n",
    "Citations: 396, arxiv cs ds (Data Structures and Algorithms) -> arxiv cs dm (Discrete Mathematics)\n",
    "Citations: 388, arxiv cs dc (Distributed, Parallel, and Cluster Computing) -> arxiv cs ds (Data Structures and Algorithms)\n",
    "Citations: 387, arxiv cs cl (Computation and Language) -> arxiv cs si (Social and Information Networks)\n",
    "Citations: 384, arxiv cs se (Software Engineering) -> arxiv cs lg (Machine Learning)\n",
    "Citations: 379, arxiv cs dm (Discrete Mathematics) -> arxiv cs ds (Data Structures and Algorithms)\n",
    "Citations: 379, arxiv cs lo (Logic in Computer Science) -> arxiv cs ai (Artificial Intelligence)\n",
    "Citations: 354, arxiv cs sy (Systems and Control) -> arxiv cs it (Information Theory)\n",
    "Citations: 352, arxiv cs hc (Human-Computer Interaction) -> arxiv cs cv (Computer Vision and Pattern Recognition)\n",
    "Citations: 349, arxiv cs ma (Multiagent Systems) -> arxiv cs ai (Artificial Intelligence)\n",
    "Citations: 346, arxiv cs ne (Neural and Evolutionary Computing) -> arxiv cs ai (Artificial Intelligence)\"\"\""
   ]
  },
  {
   "cell_type": "code",
   "execution_count": 33,
   "metadata": {},
   "outputs": [],
   "source": [
    "ai_fields = ['arxiv cs cv (Computer Vision and Pattern Recognition)'.strip(), \n",
    "             'arxiv cs ne (Neural and Evolutionary Computing)'.strip(),\n",
    "             'arxiv cs ma (Multiagent Systems)'.strip(),\n",
    "             'arxiv cs ai (Artificial Intelligence)'.strip(),\n",
    "             'arxiv cs ro (Robotics)'.strip(),\n",
    "             'arxiv cs lg (Machine Learning)'.strip(),\n",
    "             'arxiv cs it (Information Theory)'.strip(),\n",
    "             'arxiv cs lg (Machine Learning)'.strip(),\n",
    "             'arxiv cs ir (Information Retrieval)'.strip(),\n",
    "             'arxiv cs cl (Computation and Language)'.strip(),\n",
    "            ]"
   ]
  },
  {
   "cell_type": "code",
   "execution_count": 34,
   "metadata": {},
   "outputs": [],
   "source": [
    "line = data.split('\\n')[0]"
   ]
  },
  {
   "cell_type": "code",
   "execution_count": 35,
   "metadata": {},
   "outputs": [],
   "source": [
    "def parse_line(line):\n",
    "    citations, *mapping = line.split(',')\n",
    "    mapping = ','.join(mapping)\n",
    "    citation_count = int(citations.split('Citations: ')[-1])\n",
    "    from_field, to_field = mapping.strip().split(' -> ')\n",
    "    return citation_count, from_field.strip(), to_field.strip()"
   ]
  },
  {
   "cell_type": "code",
   "execution_count": 36,
   "metadata": {},
   "outputs": [],
   "source": [
    "ai_to_other = {}\n",
    "for line in data.split('\\n'):\n",
    "    count, from_f, to_f = parse_line(line.strip())\n",
    "    if from_f not in ai_fields: continue\n",
    "    if to_f in ai_fields: continue\n",
    "    \n",
    "    if from_f not in ai_to_other:\n",
    "        ai_to_other[from_f] = {}\n",
    "    ai_to_other[from_f][to_f] = count"
   ]
  },
  {
   "cell_type": "code",
   "execution_count": 37,
   "metadata": {},
   "outputs": [
    {
     "name": "stdout",
     "output_type": "stream",
     "text": [
      "{'arxiv cs dc (Distributed, Parallel, and Cluster Computing)': 681, 'arxiv cs gr (Graphics)': 653, 'arxiv cs cr (Cryptography and Security)': 608}\n",
      "{'arxiv cs cr (Cryptography and Security)': 1734, 'arxiv cs si (Social and Information Networks)': 1165, 'arxiv cs ds (Data Structures and Algorithms)': 927, 'arxiv cs dc (Distributed, Parallel, and Cluster Computing)': 895, 'arxiv cs sd (Sound)': 461}\n",
      "{'arxiv cs ni (Networking and Internet Architecture)': 2103}\n",
      "{'arxiv cs cr (Cryptography and Security)': 1734, 'arxiv cs si (Social and Information Networks)': 1165, 'arxiv cs ds (Data Structures and Algorithms)': 927, 'arxiv cs dc (Distributed, Parallel, and Cluster Computing)': 895, 'arxiv cs sd (Sound)': 461}\n",
      "{'arxiv cs si (Social and Information Networks)': 387}\n"
     ]
    }
   ],
   "source": [
    "for ai_field in ai_fields:\n",
    "    if ai_field in ai_to_other:\n",
    "        print(ai_to_other[ai_field])"
   ]
  },
  {
   "cell_type": "code",
   "execution_count": 38,
   "metadata": {},
   "outputs": [
    {
     "name": "stdout",
     "output_type": "stream",
     "text": [
      "Computation and Language\n"
     ]
    }
   ],
   "source": [
    "import re\n",
    "pattern = re.compile('arxiv cs (.*) \\((.*)\\)')\n",
    "test = 'arxiv cs cl (Computation and Language)'\n",
    "res = pattern.match(test)\n",
    "assert('cl' == res.group(1))\n",
    "print(res.group(2))"
   ]
  },
  {
   "cell_type": "code",
   "execution_count": null,
   "metadata": {},
   "outputs": [],
   "source": []
  },
  {
   "cell_type": "code",
   "execution_count": null,
   "metadata": {},
   "outputs": [],
   "source": []
  },
  {
   "cell_type": "code",
   "execution_count": 39,
   "metadata": {},
   "outputs": [],
   "source": [
    "import matplotlib.pyplot as plt\n",
    "import seaborn\n",
    "seaborn.set(font_scale=3, rc={'text.usetex' : True})"
   ]
  },
  {
   "cell_type": "code",
   "execution_count": 40,
   "metadata": {},
   "outputs": [],
   "source": [
    "def create_pie(info, ai_field):\n",
    "    title = pattern.match(ai_field).group(1)\n",
    "    data, keys = [], []\n",
    "    for k, v in info.items():\n",
    "        field_name = pattern.match(k).group(1)\n",
    "        data.append(v)\n",
    "        keys.append(field_name)\n",
    "    palette_color = seaborn.color_palette('Set2')\n",
    "    plt.pie(data, labels=keys, colors=palette_color, autopct='%.0f%%')\n",
    "    plt.title(title)\n",
    "    plt.savefig('{}.pdf'.format(title))\n",
    "    plt.close()"
   ]
  },
  {
   "cell_type": "code",
   "execution_count": 41,
   "metadata": {},
   "outputs": [],
   "source": [
    "for ai_field in ai_fields:\n",
    "    if ai_field in ai_to_other:\n",
    "        create_pie(ai_to_other[ai_field.strip()], ai_field.strip())"
   ]
  },
  {
   "cell_type": "code",
   "execution_count": null,
   "metadata": {},
   "outputs": [],
   "source": []
  },
  {
   "cell_type": "code",
   "execution_count": 42,
   "metadata": {},
   "outputs": [
    {
     "name": "stdout",
     "output_type": "stream",
     "text": [
      "``it'' stands for Information Theory, ``ni'' stands for Networking and Internet Architecture, ``lg'' stands for Machine Learning, ``cr'' stands for Cryptography and Security, ``si'' stands for Social and Information Networks, ``ds'' stands for Data Structures and Algorithms, ``dc'' stands for Distributed, Parallel, and Cluster Computing, ``sd'' stands for Sound, ``cv'' stands for Computer Vision and Pattern Recognition, ``gr'' stands for Graphics, ``cl'' stands for Computation and Language, "
     ]
    }
   ],
   "source": [
    "title_name = set()\n",
    "for from_f, v in ai_to_other.items():\n",
    "    from_name = pattern.match(from_f).group(1)\n",
    "    full_name = pattern.match(from_f).group(2)\n",
    "    if from_name in title_name:\n",
    "        continue\n",
    "    title_name.add(from_name)\n",
    "    print(\"``{}'' stands for {}\".format(from_name, full_name), end=', ')\n",
    "    for from_f, _ in v.items():\n",
    "        from_name = pattern.match(from_f).group(1)\n",
    "        full_name = pattern.match(from_f).group(2)\n",
    "        if from_name in title_name:\n",
    "            continue\n",
    "        title_name.add(from_name)\n",
    "        print(\"``{}'' stands for {}\".format(from_name, full_name), end=', ')\n",
    "    "
   ]
  },
  {
   "cell_type": "code",
   "execution_count": null,
   "metadata": {},
   "outputs": [],
   "source": []
  },
  {
   "cell_type": "code",
   "execution_count": null,
   "metadata": {},
   "outputs": [],
   "source": []
  }
 ],
 "metadata": {
  "kernelspec": {
   "display_name": "Python 3",
   "language": "python",
   "name": "python3"
  },
  "language_info": {
   "codemirror_mode": {
    "name": "ipython",
    "version": 3
   },
   "file_extension": ".py",
   "mimetype": "text/x-python",
   "name": "python",
   "nbconvert_exporter": "python",
   "pygments_lexer": "ipython3",
   "version": "3.6.5"
  }
 },
 "nbformat": 4,
 "nbformat_minor": 2
}
